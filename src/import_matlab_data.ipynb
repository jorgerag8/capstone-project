{
 "cells": [
  {
   "cell_type": "code",
   "execution_count": 1,
   "metadata": {},
   "outputs": [],
   "source": [
    "import os\n",
    "import pandas as pd\n",
    "import scipy.io\n",
    "path = \"../data/photometry_analog/PV Population/\"\n",
    "os.chdir(path)\n",
    "pd.set_option('display.float_format', lambda x: '%.4f' % x)"
   ]
  },
  {
   "cell_type": "code",
   "execution_count": 68,
   "metadata": {},
   "outputs": [],
   "source": [
    "mat = scipy.io.loadmat('GCAMP_4268_1600-7.mat')\n",
    "mat = mat['GCAMP']"
   ]
  },
  {
   "cell_type": "code",
   "execution_count": 70,
   "metadata": {},
   "outputs": [
    {
     "data": {
      "text/html": [
       "<div>\n",
       "<style scoped>\n",
       "    .dataframe tbody tr th:only-of-type {\n",
       "        vertical-align: middle;\n",
       "    }\n",
       "\n",
       "    .dataframe tbody tr th {\n",
       "        vertical-align: top;\n",
       "    }\n",
       "\n",
       "    .dataframe thead th {\n",
       "        text-align: right;\n",
       "    }\n",
       "</style>\n",
       "<table border=\"1\" class=\"dataframe\">\n",
       "  <thead>\n",
       "    <tr style=\"text-align: right;\">\n",
       "      <th></th>\n",
       "      <th>0</th>\n",
       "    </tr>\n",
       "  </thead>\n",
       "  <tbody>\n",
       "    <tr>\n",
       "      <th>0</th>\n",
       "      <td>48157341.5552</td>\n",
       "    </tr>\n",
       "    <tr>\n",
       "      <th>1</th>\n",
       "      <td>48157392.5504</td>\n",
       "    </tr>\n",
       "    <tr>\n",
       "      <th>2</th>\n",
       "      <td>48157441.3824</td>\n",
       "    </tr>\n",
       "    <tr>\n",
       "      <th>3</th>\n",
       "      <td>48157491.5200</td>\n",
       "    </tr>\n",
       "    <tr>\n",
       "      <th>4</th>\n",
       "      <td>48157542.1568</td>\n",
       "    </tr>\n",
       "    <tr>\n",
       "      <th>...</th>\n",
       "      <td>...</td>\n",
       "    </tr>\n",
       "    <tr>\n",
       "      <th>108586</th>\n",
       "      <td>53596230.5152</td>\n",
       "    </tr>\n",
       "    <tr>\n",
       "      <th>108587</th>\n",
       "      <td>53596280.8576</td>\n",
       "    </tr>\n",
       "    <tr>\n",
       "      <th>108588</th>\n",
       "      <td>53596330.6496</td>\n",
       "    </tr>\n",
       "    <tr>\n",
       "      <th>108589</th>\n",
       "      <td>53596381.1328</td>\n",
       "    </tr>\n",
       "    <tr>\n",
       "      <th>108590</th>\n",
       "      <td>53596430.8992</td>\n",
       "    </tr>\n",
       "  </tbody>\n",
       "</table>\n",
       "<p>108591 rows × 1 columns</p>\n",
       "</div>"
      ],
      "text/plain": [
       "                   0\n",
       "0      48157341.5552\n",
       "1      48157392.5504\n",
       "2      48157441.3824\n",
       "3      48157491.5200\n",
       "4      48157542.1568\n",
       "...              ...\n",
       "108586 53596230.5152\n",
       "108587 53596280.8576\n",
       "108588 53596330.6496\n",
       "108589 53596381.1328\n",
       "108590 53596430.8992\n",
       "\n",
       "[108591 rows x 1 columns]"
      ]
     },
     "execution_count": 70,
     "metadata": {},
     "output_type": "execute_result"
    }
   ],
   "source": [
    "pd.DataFrame(mat['gcampdata_timestamps'][0][0])"
   ]
  },
  {
   "cell_type": "code",
   "execution_count": 71,
   "metadata": {},
   "outputs": [],
   "source": [
    "# get filename info\n",
    "def get_filename_info(df, filename):\n",
    "    filename_info = filename.split(\"_\")\n",
    "    filename_info_sub = filename_info[2].split(\"-\")\n",
    "    df['subject'] = filename_info[1].strip()\n",
    "    df['threshold'] = int(filename_info_sub[0].strip())\n",
    "    df['day'] = filename_info_sub[1].replace(\".mat\", \"\").strip()\n",
    "\n",
    "    return df"
   ]
  },
  {
   "cell_type": "code",
   "execution_count": 72,
   "metadata": {},
   "outputs": [],
   "source": [
    "# get behavioral information\n",
    "def get_beh(mat, filename):\n",
    "    beh_data = mat['GCAMP']['beh_data'][0][0]\n",
    "    beh_data = pd.DataFrame(beh_data)\n",
    "\n",
    "    new_header = beh_data.iloc[0] #grab the first row for the header\n",
    "    beh_data = beh_data[1:] #take the data less the header row\n",
    "    beh_data.columns = new_header\n",
    "\n",
    "    beh_data = get_filename_info(beh_data, filename)\n",
    "\n",
    "    return beh_data\n"
   ]
  },
  {
   "cell_type": "code",
   "execution_count": 73,
   "metadata": {},
   "outputs": [],
   "source": [
    "# get photometry information\n",
    "def get_photo(mat, filename):\n",
    "    photo_data = pd.DataFrame()\n",
    "    photo_data['timestamp'] = pd.DataFrame(mat['GCAMP']['gcampdata_timestamps'][0][0])\n",
    "    photo_data['gcamp'] = pd.DataFrame(mat['GCAMP']['gcampdata'][0][0])\n",
    "\n",
    "    photo_data = get_filename_info(photo_data, filename)\n",
    "\n",
    "    return photo_data"
   ]
  },
  {
   "cell_type": "code",
   "execution_count": 74,
   "metadata": {},
   "outputs": [
    {
     "name": "stdout",
     "output_type": "stream",
     "text": [
      "GCAMP_4268_1600-7.mat\n",
      "GCAMP_3316_1600-5.mat\n",
      "GCAMP_3316_1600-4.mat\n",
      "GCAMP_4268_1600-6.mat\n",
      "GCAMP_4268_1600-4.mat\n",
      "GCAMP_3316_1600-6.mat\n",
      "GCAMP_4268_1600-5.mat\n",
      "GCAMP_4268_1600-1.mat\n",
      "GCAMP_3316_1600-3.mat\n",
      "GCAMP_3316_1600-2.mat\n",
      "GCAMP_4268_1600-2.mat\n",
      "GCAMP_4268_1600-3.mat\n",
      "GCAMP_4269_1600-8.mat\n",
      "GCAMP_3317_1600-3.mat\n",
      "GCAMP_3203_1600-3.mat\n",
      "GCAMP_4269_1600-1.mat\n",
      "GCAMP_3203_1600-2.mat\n",
      "GCAMP_4269_1600-3.mat\n",
      "GCAMP_3317_1600-1.mat\n",
      "GCAMP_3317_1600-5.mat\n",
      "GCAMP_4269_1600-7.mat\n",
      "GCAMP_4269_1600-6.mat\n",
      "GCAMP_4269_1600-5.mat\n",
      "GCAMP_3201_1600-2.mat\n",
      "GCAMP_3315_1600-3.mat\n",
      "GCAMP_3204_1600-6.mat\n",
      "GCAMP_3204_1600-4.mat\n",
      "GCAMP_3204_1600-5.mat\n",
      "GCAMP_4268_1600-8.mat\n",
      "GCAMP_3201_1600-4.mat\n",
      "GCAMP_3201_1600-5.mat\n",
      "GCAMP_3315_1600-6.mat\n",
      "GCAMP_3201_1600-6.mat\n"
     ]
    }
   ],
   "source": [
    "behavioral_data = pd.DataFrame()\n",
    "photometry_data = pd.DataFrame()\n",
    "for file in os.listdir(os.curdir):\n",
    "    mat = scipy.io.loadmat(os.path.join(os.curdir, file))\n",
    "    print(file)\n",
    "    # behavioral dataframe\n",
    "    beh_data = get_beh(mat, file)\n",
    "    behavioral_data = pd.concat([behavioral_data, beh_data])\n",
    "    # photometry dataframe\n",
    "    photo_data = get_photo(mat, file)\n",
    "    photometry_data = pd.concat([photometry_data, photo_data])\n",
    "\n",
    "behavioral_data.columns = [\"timestamp\", \"lp\", \"he\", \"rew\", \"subject\", \"threshold\", \"day\"]"
   ]
  },
  {
   "cell_type": "code",
   "execution_count": 75,
   "metadata": {},
   "outputs": [
    {
     "data": {
      "text/html": [
       "<div>\n",
       "<style scoped>\n",
       "    .dataframe tbody tr th:only-of-type {\n",
       "        vertical-align: middle;\n",
       "    }\n",
       "\n",
       "    .dataframe tbody tr th {\n",
       "        vertical-align: top;\n",
       "    }\n",
       "\n",
       "    .dataframe thead th {\n",
       "        text-align: right;\n",
       "    }\n",
       "</style>\n",
       "<table border=\"1\" class=\"dataframe\">\n",
       "  <thead>\n",
       "    <tr style=\"text-align: right;\">\n",
       "      <th></th>\n",
       "      <th>timestamp</th>\n",
       "      <th>lp</th>\n",
       "      <th>he</th>\n",
       "      <th>rew</th>\n",
       "      <th>subject</th>\n",
       "      <th>threshold</th>\n",
       "      <th>day</th>\n",
       "    </tr>\n",
       "  </thead>\n",
       "  <tbody>\n",
       "    <tr>\n",
       "      <th>1</th>\n",
       "      <td>48156682.8544</td>\n",
       "      <td>0.0000</td>\n",
       "      <td>0.0000</td>\n",
       "      <td>0.0000</td>\n",
       "      <td>4268</td>\n",
       "      <td>1600</td>\n",
       "      <td>7</td>\n",
       "    </tr>\n",
       "    <tr>\n",
       "      <th>2</th>\n",
       "      <td>48156686.8480</td>\n",
       "      <td>0.0000</td>\n",
       "      <td>0.0000</td>\n",
       "      <td>0.0000</td>\n",
       "      <td>4268</td>\n",
       "      <td>1600</td>\n",
       "      <td>7</td>\n",
       "    </tr>\n",
       "    <tr>\n",
       "      <th>3</th>\n",
       "      <td>48156690.9696</td>\n",
       "      <td>0.0000</td>\n",
       "      <td>0.0000</td>\n",
       "      <td>0.0000</td>\n",
       "      <td>4268</td>\n",
       "      <td>1600</td>\n",
       "      <td>7</td>\n",
       "    </tr>\n",
       "    <tr>\n",
       "      <th>4</th>\n",
       "      <td>48156690.9696</td>\n",
       "      <td>0.0000</td>\n",
       "      <td>0.0000</td>\n",
       "      <td>0.0000</td>\n",
       "      <td>4268</td>\n",
       "      <td>1600</td>\n",
       "      <td>7</td>\n",
       "    </tr>\n",
       "    <tr>\n",
       "      <th>5</th>\n",
       "      <td>48156695.0912</td>\n",
       "      <td>0.0000</td>\n",
       "      <td>0.0000</td>\n",
       "      <td>0.0000</td>\n",
       "      <td>4268</td>\n",
       "      <td>1600</td>\n",
       "      <td>7</td>\n",
       "    </tr>\n",
       "  </tbody>\n",
       "</table>\n",
       "</div>"
      ],
      "text/plain": [
       "      timestamp     lp     he    rew subject  threshold day\n",
       "1 48156682.8544 0.0000 0.0000 0.0000    4268       1600   7\n",
       "2 48156686.8480 0.0000 0.0000 0.0000    4268       1600   7\n",
       "3 48156690.9696 0.0000 0.0000 0.0000    4268       1600   7\n",
       "4 48156690.9696 0.0000 0.0000 0.0000    4268       1600   7\n",
       "5 48156695.0912 0.0000 0.0000 0.0000    4268       1600   7"
      ]
     },
     "execution_count": 75,
     "metadata": {},
     "output_type": "execute_result"
    }
   ],
   "source": [
    "behavioral_data.head()"
   ]
  },
  {
   "cell_type": "code",
   "execution_count": 76,
   "metadata": {},
   "outputs": [
    {
     "data": {
      "text/plain": [
       "51414779"
      ]
     },
     "execution_count": 76,
     "metadata": {},
     "output_type": "execute_result"
    }
   ],
   "source": [
    "len(behavioral_data)"
   ]
  },
  {
   "cell_type": "code",
   "execution_count": 84,
   "metadata": {},
   "outputs": [
    {
     "data": {
      "text/plain": [
       "48529893"
      ]
     },
     "execution_count": 84,
     "metadata": {},
     "output_type": "execute_result"
    }
   ],
   "source": [
    "behavioral_data = behavioral_data.drop_duplicates()\n",
    "len(behavioral_data)"
   ]
  },
  {
   "cell_type": "code",
   "execution_count": 85,
   "metadata": {},
   "outputs": [],
   "source": [
    "behavioral_data.to_csv(\"../processed/analog_data.csv\", index=False)"
   ]
  },
  {
   "cell_type": "code",
   "execution_count": 77,
   "metadata": {},
   "outputs": [
    {
     "data": {
      "text/html": [
       "<div>\n",
       "<style scoped>\n",
       "    .dataframe tbody tr th:only-of-type {\n",
       "        vertical-align: middle;\n",
       "    }\n",
       "\n",
       "    .dataframe tbody tr th {\n",
       "        vertical-align: top;\n",
       "    }\n",
       "\n",
       "    .dataframe thead th {\n",
       "        text-align: right;\n",
       "    }\n",
       "</style>\n",
       "<table border=\"1\" class=\"dataframe\">\n",
       "  <thead>\n",
       "    <tr style=\"text-align: right;\">\n",
       "      <th></th>\n",
       "      <th>timestamp</th>\n",
       "      <th>gcamp</th>\n",
       "      <th>subject</th>\n",
       "      <th>threshold</th>\n",
       "      <th>day</th>\n",
       "    </tr>\n",
       "  </thead>\n",
       "  <tbody>\n",
       "    <tr>\n",
       "      <th>0</th>\n",
       "      <td>48157341.5552</td>\n",
       "      <td>0.0000</td>\n",
       "      <td>4268</td>\n",
       "      <td>1600</td>\n",
       "      <td>7</td>\n",
       "    </tr>\n",
       "    <tr>\n",
       "      <th>1</th>\n",
       "      <td>48157392.5504</td>\n",
       "      <td>0.0540</td>\n",
       "      <td>4268</td>\n",
       "      <td>1600</td>\n",
       "      <td>7</td>\n",
       "    </tr>\n",
       "    <tr>\n",
       "      <th>2</th>\n",
       "      <td>48157441.3824</td>\n",
       "      <td>0.0739</td>\n",
       "      <td>4268</td>\n",
       "      <td>1600</td>\n",
       "      <td>7</td>\n",
       "    </tr>\n",
       "    <tr>\n",
       "      <th>3</th>\n",
       "      <td>48157491.5200</td>\n",
       "      <td>0.2379</td>\n",
       "      <td>4268</td>\n",
       "      <td>1600</td>\n",
       "      <td>7</td>\n",
       "    </tr>\n",
       "    <tr>\n",
       "      <th>4</th>\n",
       "      <td>48157542.1568</td>\n",
       "      <td>0.2559</td>\n",
       "      <td>4268</td>\n",
       "      <td>1600</td>\n",
       "      <td>7</td>\n",
       "    </tr>\n",
       "  </tbody>\n",
       "</table>\n",
       "</div>"
      ],
      "text/plain": [
       "      timestamp  gcamp subject  threshold day\n",
       "0 48157341.5552 0.0000    4268       1600   7\n",
       "1 48157392.5504 0.0540    4268       1600   7\n",
       "2 48157441.3824 0.0739    4268       1600   7\n",
       "3 48157491.5200 0.2379    4268       1600   7\n",
       "4 48157542.1568 0.2559    4268       1600   7"
      ]
     },
     "execution_count": 77,
     "metadata": {},
     "output_type": "execute_result"
    }
   ],
   "source": [
    "photometry_data.head()"
   ]
  },
  {
   "cell_type": "code",
   "execution_count": 78,
   "metadata": {},
   "outputs": [
    {
     "data": {
      "text/plain": [
       "3691184"
      ]
     },
     "execution_count": 78,
     "metadata": {},
     "output_type": "execute_result"
    }
   ],
   "source": [
    "len(photometry_data)"
   ]
  },
  {
   "cell_type": "code",
   "execution_count": 86,
   "metadata": {},
   "outputs": [
    {
     "data": {
      "text/plain": [
       "3691184"
      ]
     },
     "execution_count": 86,
     "metadata": {},
     "output_type": "execute_result"
    }
   ],
   "source": [
    "photometry_data = photometry_data.drop_duplicates()\n",
    "len(photometry_data)"
   ]
  },
  {
   "cell_type": "code",
   "execution_count": 87,
   "metadata": {},
   "outputs": [],
   "source": [
    "photometry_data.to_csv(\"../processed/photometry_data.csv\", index=False)"
   ]
  },
  {
   "cell_type": "code",
   "execution_count": null,
   "metadata": {},
   "outputs": [],
   "source": []
  }
 ],
 "metadata": {
  "kernelspec": {
   "display_name": "Python 3.9.12 64-bit",
   "language": "python",
   "name": "python3"
  },
  "language_info": {
   "codemirror_mode": {
    "name": "ipython",
    "version": 3
   },
   "file_extension": ".py",
   "mimetype": "text/x-python",
   "name": "python",
   "nbconvert_exporter": "python",
   "pygments_lexer": "ipython3",
   "version": "3.9.12"
  },
  "orig_nbformat": 4,
  "vscode": {
   "interpreter": {
    "hash": "b0fa6594d8f4cbf19f97940f81e996739fb7646882a419484c72d19e05852a7e"
   }
  }
 },
 "nbformat": 4,
 "nbformat_minor": 2
}
