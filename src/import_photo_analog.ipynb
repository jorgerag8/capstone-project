{
 "cells": [
  {
   "cell_type": "code",
   "execution_count": 13,
   "metadata": {},
   "outputs": [],
   "source": [
    "import os\n",
    "import pandas as pd"
   ]
  },
  {
   "cell_type": "code",
   "execution_count": 14,
   "metadata": {},
   "outputs": [],
   "source": [
    "path = \"../data/photometry_analog/\"\n"
   ]
  },
  {
   "cell_type": "markdown",
   "metadata": {},
   "source": [
    "### Photometry data"
   ]
  },
  {
   "cell_type": "code",
   "execution_count": 26,
   "metadata": {},
   "outputs": [],
   "source": [
    "photometry_data = pd.DataFrame()\n",
    "for foldername in os.listdir(path):\n",
    "    if foldername != \".DS_Store\":\n",
    "        folderpath = os.path.join(path, foldername)\n",
    "        for subfoldername in os.listdir(folderpath):\n",
    "            subfolderpath = os.path.join(folderpath, subfoldername)\n",
    "            if subfoldername != \".DS_Store\":\n",
    "                for filename in os.listdir(subfolderpath):\n",
    "                    if \"photometry\" in filename:\n",
    "                        characteristics = filename.split(\"-\")\n",
    "                        subject = characteristics[0].strip()\n",
    "                        threshold = int(characteristics[1].strip())\n",
    "                        day = characteristics[2].strip()\n",
    "                        content = pd.read_csv(open(os.path.join(subfolderpath, filename)), sep = \" \", index_col = False)\n",
    "                        content[\"subject\"] = subject\n",
    "                        content[\"threshold\"] = threshold\n",
    "                        content[\"day\"] = day\n",
    "                        photometry_data = pd.concat([photometry_data, content])"
   ]
  },
  {
   "cell_type": "code",
   "execution_count": 27,
   "metadata": {},
   "outputs": [
    {
     "data": {
      "text/plain": [
       "17162050"
      ]
     },
     "execution_count": 27,
     "metadata": {},
     "output_type": "execute_result"
    }
   ],
   "source": [
    "len(photometry_data)"
   ]
  },
  {
   "cell_type": "code",
   "execution_count": 38,
   "metadata": {},
   "outputs": [
    {
     "data": {
      "text/plain": [
       "17162050"
      ]
     },
     "execution_count": 38,
     "metadata": {},
     "output_type": "execute_result"
    }
   ],
   "source": [
    "len(photometry_data.drop_duplicates())"
   ]
  },
  {
   "cell_type": "code",
   "execution_count": 44,
   "metadata": {},
   "outputs": [
    {
     "data": {
      "text/html": [
       "<div>\n",
       "<style scoped>\n",
       "    .dataframe tbody tr th:only-of-type {\n",
       "        vertical-align: middle;\n",
       "    }\n",
       "\n",
       "    .dataframe tbody tr th {\n",
       "        vertical-align: top;\n",
       "    }\n",
       "\n",
       "    .dataframe thead th {\n",
       "        text-align: right;\n",
       "    }\n",
       "</style>\n",
       "<table border=\"1\" class=\"dataframe\">\n",
       "  <thead>\n",
       "    <tr style=\"text-align: right;\">\n",
       "      <th></th>\n",
       "      <th>Item6.Timestamp.TimeOfDay.TotalMilliseconds</th>\n",
       "      <th>Item4.Timestamp.TimeOfDay.TotalMilliseconds</th>\n",
       "      <th>Item5.Val0</th>\n",
       "      <th>Item5.Val1</th>\n",
       "      <th>Item5.Val2</th>\n",
       "      <th>Item5.Val3</th>\n",
       "      <th>Item1</th>\n",
       "      <th>Item2</th>\n",
       "      <th>Item3</th>\n",
       "      <th>subject</th>\n",
       "      <th>threshold</th>\n",
       "      <th>day</th>\n",
       "    </tr>\n",
       "  </thead>\n",
       "  <tbody>\n",
       "    <tr>\n",
       "      <th>0</th>\n",
       "      <td>56558704.30720</td>\n",
       "      <td>56558704.35840</td>\n",
       "      <td>17151</td>\n",
       "      <td>0</td>\n",
       "      <td>0</td>\n",
       "      <td>0</td>\n",
       "      <td>1240287559</td>\n",
       "      <td>3254780419</td>\n",
       "      <td>11654</td>\n",
       "      <td>3201</td>\n",
       "      <td>1600</td>\n",
       "      <td>1</td>\n",
       "    </tr>\n",
       "    <tr>\n",
       "      <th>1</th>\n",
       "      <td>56558728.85760</td>\n",
       "      <td>56558728.90880</td>\n",
       "      <td>31547</td>\n",
       "      <td>0</td>\n",
       "      <td>0</td>\n",
       "      <td>0</td>\n",
       "      <td>1241893183</td>\n",
       "      <td>3254780419</td>\n",
       "      <td>11655</td>\n",
       "      <td>3201</td>\n",
       "      <td>1600</td>\n",
       "      <td>1</td>\n",
       "    </tr>\n",
       "    <tr>\n",
       "      <th>2</th>\n",
       "      <td>56558753.84320</td>\n",
       "      <td>56558753.86880</td>\n",
       "      <td>16936</td>\n",
       "      <td>0</td>\n",
       "      <td>0</td>\n",
       "      <td>0</td>\n",
       "      <td>1242712359</td>\n",
       "      <td>3254780419</td>\n",
       "      <td>11656</td>\n",
       "      <td>3201</td>\n",
       "      <td>1600</td>\n",
       "      <td>1</td>\n",
       "    </tr>\n",
       "    <tr>\n",
       "      <th>3</th>\n",
       "      <td>56558778.85440</td>\n",
       "      <td>56558778.88000</td>\n",
       "      <td>31408</td>\n",
       "      <td>0</td>\n",
       "      <td>0</td>\n",
       "      <td>0</td>\n",
       "      <td>1243531521</td>\n",
       "      <td>3254780419</td>\n",
       "      <td>11657</td>\n",
       "      <td>3201</td>\n",
       "      <td>1600</td>\n",
       "      <td>1</td>\n",
       "    </tr>\n",
       "    <tr>\n",
       "      <th>4</th>\n",
       "      <td>56558803.84000</td>\n",
       "      <td>56558803.86560</td>\n",
       "      <td>17144</td>\n",
       "      <td>0</td>\n",
       "      <td>0</td>\n",
       "      <td>0</td>\n",
       "      <td>1244350605</td>\n",
       "      <td>3254780419</td>\n",
       "      <td>11658</td>\n",
       "      <td>3201</td>\n",
       "      <td>1600</td>\n",
       "      <td>1</td>\n",
       "    </tr>\n",
       "  </tbody>\n",
       "</table>\n",
       "</div>"
      ],
      "text/plain": [
       "   Item6.Timestamp.TimeOfDay.TotalMilliseconds  \\\n",
       "0                               56558704.30720   \n",
       "1                               56558728.85760   \n",
       "2                               56558753.84320   \n",
       "3                               56558778.85440   \n",
       "4                               56558803.84000   \n",
       "\n",
       "   Item4.Timestamp.TimeOfDay.TotalMilliseconds  Item5.Val0  Item5.Val1  \\\n",
       "0                               56558704.35840       17151           0   \n",
       "1                               56558728.90880       31547           0   \n",
       "2                               56558753.86880       16936           0   \n",
       "3                               56558778.88000       31408           0   \n",
       "4                               56558803.86560       17144           0   \n",
       "\n",
       "   Item5.Val2  Item5.Val3       Item1       Item2  Item3 subject  threshold  \\\n",
       "0           0           0  1240287559  3254780419  11654    3201       1600   \n",
       "1           0           0  1241893183  3254780419  11655    3201       1600   \n",
       "2           0           0  1242712359  3254780419  11656    3201       1600   \n",
       "3           0           0  1243531521  3254780419  11657    3201       1600   \n",
       "4           0           0  1244350605  3254780419  11658    3201       1600   \n",
       "\n",
       "  day  \n",
       "0   1  \n",
       "1   1  \n",
       "2   1  \n",
       "3   1  \n",
       "4   1  "
      ]
     },
     "execution_count": 44,
     "metadata": {},
     "output_type": "execute_result"
    }
   ],
   "source": [
    "photometry_data.head()"
   ]
  },
  {
   "cell_type": "code",
   "execution_count": 42,
   "metadata": {},
   "outputs": [],
   "source": [
    "photometry_data.to_csv(\"../data/photometry_analog/processed/photometry_data.csv\", index=False)"
   ]
  },
  {
   "cell_type": "markdown",
   "metadata": {},
   "source": [
    "### Analog data"
   ]
  },
  {
   "cell_type": "code",
   "execution_count": 29,
   "metadata": {},
   "outputs": [],
   "source": [
    "analog_data = pd.DataFrame()\n",
    "for foldername in os.listdir(path):\n",
    "    if foldername != \".DS_Store\":\n",
    "        folderpath = os.path.join(path, foldername)\n",
    "        for subfoldername in os.listdir(folderpath):\n",
    "            subfolderpath = os.path.join(folderpath, subfoldername)\n",
    "            if subfoldername != \".DS_Store\":\n",
    "                for filename in os.listdir(subfolderpath):\n",
    "                    if \"analog\" in filename:\n",
    "                        characteristics = filename.split(\"-\")\n",
    "                        subject = characteristics[0].strip()\n",
    "                        threshold = int(characteristics[1].strip())\n",
    "                        day = characteristics[2].strip()\n",
    "                        content = pd.read_csv(open(os.path.join(subfolderpath, filename)), sep = \" \", index_col = False)\n",
    "                        content[\"subject\"] = subject\n",
    "                        content[\"threshold\"] = threshold\n",
    "                        content[\"day\"] = day\n",
    "                        analog_data = pd.concat([analog_data, content])"
   ]
  },
  {
   "cell_type": "code",
   "execution_count": 35,
   "metadata": {},
   "outputs": [
    {
     "data": {
      "text/plain": [
       "110242579"
      ]
     },
     "execution_count": 35,
     "metadata": {},
     "output_type": "execute_result"
    }
   ],
   "source": [
    "len(analog_data)"
   ]
  },
  {
   "cell_type": "code",
   "execution_count": 45,
   "metadata": {},
   "outputs": [
    {
     "data": {
      "text/html": [
       "<div>\n",
       "<style scoped>\n",
       "    .dataframe tbody tr th:only-of-type {\n",
       "        vertical-align: middle;\n",
       "    }\n",
       "\n",
       "    .dataframe tbody tr th {\n",
       "        vertical-align: top;\n",
       "    }\n",
       "\n",
       "    .dataframe thead th {\n",
       "        text-align: right;\n",
       "    }\n",
       "</style>\n",
       "<table border=\"1\" class=\"dataframe\">\n",
       "  <thead>\n",
       "    <tr style=\"text-align: right;\">\n",
       "      <th></th>\n",
       "      <th>Item6</th>\n",
       "      <th>Item1</th>\n",
       "      <th>Item2</th>\n",
       "      <th>Item3</th>\n",
       "      <th>Item4</th>\n",
       "      <th>Item5</th>\n",
       "      <th>subject</th>\n",
       "      <th>threshold</th>\n",
       "      <th>day</th>\n",
       "    </tr>\n",
       "  </thead>\n",
       "  <tbody>\n",
       "    <tr>\n",
       "      <th>0</th>\n",
       "      <td>53279905.57440</td>\n",
       "      <td>0</td>\n",
       "      <td>0</td>\n",
       "      <td>0</td>\n",
       "      <td>0</td>\n",
       "      <td>0</td>\n",
       "      <td>3202</td>\n",
       "      <td>800</td>\n",
       "      <td>3</td>\n",
       "    </tr>\n",
       "    <tr>\n",
       "      <th>1</th>\n",
       "      <td>53279909.56800</td>\n",
       "      <td>0</td>\n",
       "      <td>0</td>\n",
       "      <td>0</td>\n",
       "      <td>0</td>\n",
       "      <td>0</td>\n",
       "      <td>3202</td>\n",
       "      <td>800</td>\n",
       "      <td>3</td>\n",
       "    </tr>\n",
       "    <tr>\n",
       "      <th>2</th>\n",
       "      <td>53279909.59360</td>\n",
       "      <td>0</td>\n",
       "      <td>0</td>\n",
       "      <td>0</td>\n",
       "      <td>0</td>\n",
       "      <td>0</td>\n",
       "      <td>3202</td>\n",
       "      <td>800</td>\n",
       "      <td>3</td>\n",
       "    </tr>\n",
       "    <tr>\n",
       "      <th>3</th>\n",
       "      <td>53279913.68960</td>\n",
       "      <td>0</td>\n",
       "      <td>0</td>\n",
       "      <td>0</td>\n",
       "      <td>0</td>\n",
       "      <td>0</td>\n",
       "      <td>3202</td>\n",
       "      <td>800</td>\n",
       "      <td>3</td>\n",
       "    </tr>\n",
       "    <tr>\n",
       "      <th>4</th>\n",
       "      <td>53279917.82400</td>\n",
       "      <td>0</td>\n",
       "      <td>1</td>\n",
       "      <td>0</td>\n",
       "      <td>0</td>\n",
       "      <td>0</td>\n",
       "      <td>3202</td>\n",
       "      <td>800</td>\n",
       "      <td>3</td>\n",
       "    </tr>\n",
       "  </tbody>\n",
       "</table>\n",
       "</div>"
      ],
      "text/plain": [
       "           Item6  Item1  Item2  Item3  Item4  Item5 subject  threshold day\n",
       "0 53279905.57440      0      0      0      0      0    3202        800   3\n",
       "1 53279909.56800      0      0      0      0      0    3202        800   3\n",
       "2 53279909.59360      0      0      0      0      0    3202        800   3\n",
       "3 53279913.68960      0      0      0      0      0    3202        800   3\n",
       "4 53279917.82400      0      1      0      0      0    3202        800   3"
      ]
     },
     "execution_count": 45,
     "metadata": {},
     "output_type": "execute_result"
    }
   ],
   "source": [
    "analog_data.head()"
   ]
  },
  {
   "cell_type": "code",
   "execution_count": 40,
   "metadata": {},
   "outputs": [],
   "source": [
    "analog_data = analog_data.drop_duplicates()"
   ]
  },
  {
   "cell_type": "code",
   "execution_count": 41,
   "metadata": {},
   "outputs": [],
   "source": [
    "analog_data.to_csv(\"../data/photometry_analog/processed/analog_data.csv\", index=False)"
   ]
  }
 ],
 "metadata": {
  "kernelspec": {
   "display_name": "Python 3.9.12 64-bit",
   "language": "python",
   "name": "python3"
  },
  "language_info": {
   "codemirror_mode": {
    "name": "ipython",
    "version": 3
   },
   "file_extension": ".py",
   "mimetype": "text/x-python",
   "name": "python",
   "nbconvert_exporter": "python",
   "pygments_lexer": "ipython3",
   "version": "3.9.12"
  },
  "orig_nbformat": 4,
  "vscode": {
   "interpreter": {
    "hash": "b0fa6594d8f4cbf19f97940f81e996739fb7646882a419484c72d19e05852a7e"
   }
  }
 },
 "nbformat": 4,
 "nbformat_minor": 2
}
